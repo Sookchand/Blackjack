{
  "nbformat": 4,
  "nbformat_minor": 0,
  "metadata": {
    "colab": {
      "provenance": []
    },
    "kernelspec": {
      "name": "python3",
      "display_name": "Python 3"
    },
    "language_info": {
      "name": "python"
    }
  },
  "cells": [
    {
      "cell_type": "markdown",
      "source": [
        "# Black Jack\n",
        "### The deck is unlimited in size.\n",
        "### There are no jokers.\n",
        "### The Jack/Queen/King all count as 10.\n",
        "### The the Ace can count as 11 or 1.\n",
        "### Use the following list as the deck of cards:\n",
        "### cards = [11, 2, 3, 4, 5, 6, 7, 8, 9, 10, 10, 10, 10]\n",
        "### The cards in the list have equal probability of being drawn.\n",
        "### Cards are not removed from the deck as they are drawn.\n",
        "### The computer is the dealer."
      ],
      "metadata": {
        "id": "4vcn5ob0GZcQ"
      }
    },
    {
      "cell_type": "code",
      "source": [
        "from google.colab import drive\n",
        "drive.mount('/content/drive')\n",
        "import sys\n",
        "sys.path.append('/content/drive/MyDrive')\n",
        "\n",
        "import random\n",
        "from blackjack import logo\n",
        "print(logo)\n",
        "\n",
        "cards = [11, 2, 3, 4, 5, 6, 7, 8, 9, 10, 10, 10, 10]\n",
        "player_hand = []\n",
        "computer_hand = []\n",
        "\n",
        "def ran_card():\n",
        "    return random.choice(cards)\n",
        "    #print(random_card)\n",
        "\n",
        "def player_deal():\n",
        "    you = input(\"Do you want to play black Jack? Type 'y' for yes and 'n' for no: \").lower()\n",
        "\n",
        "    if you == 'y':\n",
        "        player_hand.append(ran_card())\n",
        "        player_hand.append(ran_card())\n",
        "        print(f\"Your cards: {player_hand}\")\n",
        "        return player_hand\n",
        "\n",
        "def computer_deal():\n",
        "    computer_hand.append(ran_card())\n",
        "    print(f'Computer cards: {computer_hand}')\n",
        "    return computer_hand\n",
        "\n",
        "def calculate_score(hand):\n",
        "\n",
        "    if sum(hand) == 21 and len(hand) == 2:\n",
        "        return 0\n",
        "    if 11 in hand and sum(hand) > 21:\n",
        "        hand.remove(11)\n",
        "        hand.append(1)\n",
        "    return sum(hand)\n",
        "\n",
        "def another_card():\n",
        "    another = input(\"Do you want another card? Type 'y' for yes and 'n' for no: \").lower()\n",
        "    if another == 'y':\n",
        "        player_hand.append(ran_card())\n",
        "        print(f\"Your cards: {player_hand}\")\n",
        "\n",
        "    if another == 'n' or another == 'y':\n",
        "        computer_hand.append(ran_card())\n",
        "        if sum(computer_hand) < 16:\n",
        "            computer_hand.append(ran_card())\n",
        "            if sum(computer_hand) > 21:\n",
        "                print(f\"You win! Computer points is:{computer_hand}\")\n",
        "\n",
        "    computer_score = calculate_score(computer_hand)\n",
        "    player_score = calculate_score(player_hand)\n",
        "    if player_score > computer_score:\n",
        "        print(f\"Your final hand is {player_hand}, your score is {player_score}.\\nComputer final hand is {computer_hand}, computer score is {computer_score}.\\nYou Win!\")\n",
        "    elif player_score == computer_score:\n",
        "        print(f\"Your final hand is {player_hand}, your score is {player_score}.\\nComputer final hand is {computer_hand}, computer score is {computer_score}.\\nIt's a Draw.\")\n",
        "    else:\n",
        "        print(f\"Your final hand is {player_hand}, your score is {player_score}.\\nComputer final hand is {computer_hand}, computer score is {computer_score}.\\nYou Loose\")\n",
        "\n",
        "ran_card()\n",
        "player_deal()\n",
        "computer_deal()\n",
        "another_card()\n",
        "\n",
        "\n"
      ],
      "metadata": {
        "colab": {
          "base_uri": "https://localhost:8080/"
        },
        "id": "kB4dNhAjjPKv",
        "outputId": "8e6df809-4b21-43c4-9bdb-3c81b06a96d6"
      },
      "execution_count": 11,
      "outputs": [
        {
          "output_type": "stream",
          "name": "stdout",
          "text": [
            "\n",
            ".------.            _     _            _    _            _    \n",
            "|A_  _ |.          | |   | |          | |  (_)          | |   \n",
            "|( \\/ ).-----.     | |__ | | __ _  ___| | ___  __ _  ___| | __\n",
            "| \\  /|K /\\  |     | '_ \\| |/ _` |/ __| |/ / |/ _` |/ __| |/ /\n",
            "|  \\/ | /  \\ |     | |_) | | (_| | (__|   <| | (_| | (__|   < \n",
            "`-----| \\  / |     |_.__/|_|\\__,_|\\___|_|\\_\\ |\\__,_|\\___|_|\\_\\\n",
            "      |  \\/ K|                            _/ |                \n",
            "      `------'                           |__/           \n",
            "\n",
            "Do you want to play black Jack? Type 'y' for yes and 'n' for no: Y\n",
            "Your cards are: [9, 10].  Computer first card is: 5\n",
            "Do you want another card? Type 'y' for yes and 'n' for no: N\n",
            "Computer cards: [5, 10]\n",
            "You win! Computer points is:[5, 10, 10]\n",
            "Your final hand is [9, 10], your score is 19.\n",
            "Computer final hand is [5, 10, 10], computer score is 25.\n",
            "You Loose\n"
          ]
        }
      ]
    },
    {
      "cell_type": "markdown",
      "source": [
        "# Improving upon code"
      ],
      "metadata": {
        "id": "GB3C-AGMfR1y"
      }
    },
    {
      "cell_type": "code",
      "source": [
        "import random\n",
        "from blackjack import logo\n",
        "\n",
        "def deal_card():\n",
        "    ''' returns a random card from the deck'''\n",
        "    cards = [11, 2, 3, 4, 5, 6, 7, 8, 9, 10, 10, 10, 10]\n",
        "    card = random.choice(cards)\n",
        "    return card\n",
        "deal_card()\n",
        "\n",
        "def calculate_score(cards):\n",
        "    ''' takes a list and returns the sum of numbers in the list(cards)'''\n",
        "    if sum(cards) == 21 and len(cards) == 2:\n",
        "        return 0\n",
        "    if 11 in cards and sum(cards) > 21:\n",
        "        cards.remove(11)\n",
        "        cards.append(1)\n",
        "    return sum(cards)\n",
        "\n",
        "\n",
        "def compare(user_score, computer_score):\n",
        "    if computer_score > 21 and user_score > 21:\n",
        "        return \"You went over. You loose😤\"\n",
        "    if user_score == computer_score:\n",
        "        return \"Draw 🙃\"\n",
        "    elif computer_score == 0:\n",
        "        return \"Lose, opponent has Blackjack 😱\"\n",
        "    elif user_score == 0:\n",
        "        return \"Win with a Blackjack 😎\"\n",
        "    elif user_score > 21:\n",
        "        return \"You went over. You lose 😭\"\n",
        "    elif computer_score > 21:\n",
        "        return \"Opponent went over. You win 😁\"\n",
        "    elif user_score > computer_score:\n",
        "        return \"You win 😃\"\n",
        "    else:\n",
        "        return \"You lose 😤\"\n",
        "\n",
        "def play_game():\n",
        "    print(logo)\n",
        "    user_cards = []\n",
        "    computer_cards = []\n",
        "    is_game_over = False\n",
        "\n",
        "    for _ in range(2):\n",
        "        user_cards.append(deal_card())\n",
        "        computer_cards.append(deal_card())\n",
        "    #print(f'Your cards are: {player_hand}.  Computer first card is: {computer_hand[0]}')\n",
        "\n",
        "    while not is_game_over:\n",
        "        user_score = calculate_score(user_cards)\n",
        "        computer_score = calculate_score(computer_cards)\n",
        "        print(f\"   Your cards: {user_cards}, current score: {user_score}\")\n",
        "        print(f\"   Computer's first card: {computer_cards[0]}\")\n",
        "\n",
        "        if user_score == 0 or computer_score == 0 or user_score > 21:\n",
        "            is_game_over = True\n",
        "        else:\n",
        "            user_should_deal = input(\"Type 'y' to get another card, type 'n' to pass: \").lower()\n",
        "            if user_should_deal == 'y':\n",
        "                user_cards.append(deal_card())\n",
        "            else:\n",
        "                is_game_over = True\n",
        "\n",
        "    while computer_score != 0 and computer_score < 17:\n",
        "        computer_cards.append(deal_card())\n",
        "        computer_score = calculate_score(computer_cards)\n",
        "    print(f\"   Your final hand: {user_cards}, final score: {user_score}\")\n",
        "    print(f\"   Computer's final hand: {computer_cards}, final score: {computer_score}\")\n",
        "    print(compare(user_score, computer_score))\n",
        "while input(\"Do you want to play a game of Blackjack? Type 'y' or 'n': \") == \"y\":\n",
        "  play_game()"
      ],
      "metadata": {
        "colab": {
          "base_uri": "https://localhost:8080/"
        },
        "id": "Pvno9CZWa3ev",
        "outputId": "4562412d-08c9-45ab-a9d2-f7579f964c20"
      },
      "execution_count": 16,
      "outputs": [
        {
          "name": "stdout",
          "output_type": "stream",
          "text": [
            "Do you want to play a game of Blackjack? Type 'y' or 'n': y\n",
            "\n",
            ".------.            _     _            _    _            _    \n",
            "|A_  _ |.          | |   | |          | |  (_)          | |   \n",
            "|( \\/ ).-----.     | |__ | | __ _  ___| | ___  __ _  ___| | __\n",
            "| \\  /|K /\\  |     | '_ \\| |/ _` |/ __| |/ / |/ _` |/ __| |/ /\n",
            "|  \\/ | /  \\ |     | |_) | | (_| | (__|   <| | (_| | (__|   < \n",
            "`-----| \\  / |     |_.__/|_|\\__,_|\\___|_|\\_\\ |\\__,_|\\___|_|\\_\\\n",
            "      |  \\/ K|                            _/ |                \n",
            "      `------'                           |__/           \n",
            "\n",
            "   Your cards: [10, 11], current score: 0\n",
            "   Computer's first card: 10\n",
            "   Your final hand: [10, 11], final score: 0\n",
            "   Computer's final hand: [10, 10], final score: 20\n",
            "Win with a Blackjack 😎\n",
            "Do you want to play a game of Blackjack? Type 'y' or 'n': n\n"
          ]
        }
      ]
    }
  ]
}